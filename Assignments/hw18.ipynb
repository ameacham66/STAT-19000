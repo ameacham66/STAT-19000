{
 "cells": [
  {
   "cell_type": "markdown",
   "metadata": {},
   "source": [
    "# Project 18"
   ]
  },
  {
   "cell_type": "markdown",
   "metadata": {},
   "source": [
    "**Name:**"
   ]
  },
  {
   "cell_type": "markdown",
   "metadata": {},
   "source": [
    "Consider the election data stored at: \n",
    "    /depot/statclass/data/election2018/itcont.txt   \n",
    "The data set is very large.  You might choose to analyze a smaller \n",
    "portion of the data initially, \n",
    "and then to run your code on the full data set, once you have the code \n",
    "working correctly. \n",
    "\n",
    "Sometimes there will be warnings in Jupyter Notebooks, and you need to \n",
    "scroll past the warnings, \n",
    "to see the results of your analysis.  This is a known issue with Jupyter \n",
    "Notebooks, and \n",
    "other people are experiencing it too: \n",
    "https://github.com/IRkernel/IRkernel/issues/590 \n",
    "\n",
    "Recall that the data dictionary for the data is found here: \n",
    "https://www.fec.gov/campaign-finance-data/contributions-individuals-file-description "
   ]
  },
  {
   "cell_type": "markdown",
   "metadata": {},
   "source": [
    "**1a.**  The first column contains the \"Filer identification number\" for \n",
    "various committees. \n",
    "     Which of these committees received the largest monetary amount of \n",
    "donations? "
   ]
  },
  {
   "cell_type": "code",
   "execution_count": 1,
   "metadata": {
    "collapsed": true
   },
   "outputs": [],
   "source": [
    "# Place code here"
   ]
  },
  {
   "cell_type": "markdown",
   "metadata": {},
   "source": [
    "**Explain solution:**"
   ]
  },
  {
   "cell_type": "markdown",
   "metadata": {},
   "source": [
    "**1b.**  Use the tapply function to make a matrix \n",
    "     whose rows correspond to states, \n",
    "     whose columns correspond to the \"filer identification numbers\" of \n",
    "committees, \n",
    "     and whose entries contain the total amount of the donations given \n",
    "     to the committees, by donors from each individual state. \n",
    "     Hint:  Wrap the states and the filer identification numbers into a \n",
    "list. \n",
    "     Print the block of first 10 rows and 10 columns, so that the TA's \n",
    "can see the results of your work. "
   ]
  },
  {
   "cell_type": "code",
   "execution_count": 1,
   "metadata": {
    "collapsed": true
   },
   "outputs": [],
   "source": [
    "# Place code here"
   ]
  },
  {
   "cell_type": "markdown",
   "metadata": {},
   "source": [
    "**Explain solution:**"
   ]
  },
  {
   "cell_type": "markdown",
   "metadata": {},
   "source": [
    "**2.**   For this question, be sure to take into account the city and state \n",
    "(together). \n",
    "\n",
    "**2a.**  Identify the six cities that made the largest number of donations. \n"
   ]
  },
  {
   "cell_type": "code",
   "execution_count": 1,
   "metadata": {
    "collapsed": true
   },
   "outputs": [],
   "source": [
    "# Place code here"
   ]
  },
  {
   "cell_type": "markdown",
   "metadata": {},
   "source": [
    "**Explain solution:**"
   ]
  },
  {
   "cell_type": "markdown",
   "metadata": {},
   "source": [
    "**2b.**  Identify the six cities that made the largest monetary amount of funding \n",
    "donated. "
   ]
  },
  {
   "cell_type": "code",
   "execution_count": 1,
   "metadata": {
    "collapsed": true
   },
   "outputs": [],
   "source": [
    "# Place code here"
   ]
  },
  {
   "cell_type": "markdown",
   "metadata": {},
   "source": [
    "**Explain solution:**"
   ]
  },
  {
   "cell_type": "markdown",
   "metadata": {},
   "source": [
    "**3a.**  Split the data (using the split command) about the \n",
    "donations, \n",
    "     according to the day when the transaction was made. "
   ]
  },
  {
   "cell_type": "code",
   "execution_count": 1,
   "metadata": {
    "collapsed": true
   },
   "outputs": [],
   "source": [
    "# Place code here"
   ]
  },
  {
   "cell_type": "markdown",
   "metadata": {},
   "source": [
    "**Explain solution:**"
   ]
  },
  {
   "cell_type": "markdown",
   "metadata": {},
   "source": [
    "Once this split is accomplished, use the sapply function to find \n",
    "the following: \n",
    "\n",
    "**3b.**  On which day was the total monetary amount of donations the largest? \n"
   ]
  },
  {
   "cell_type": "code",
   "execution_count": 1,
   "metadata": {
    "collapsed": true
   },
   "outputs": [],
   "source": [
    "# Place code here"
   ]
  },
  {
   "cell_type": "markdown",
   "metadata": {},
   "source": [
    "**Explain solution:**"
   ]
  },
  {
   "cell_type": "markdown",
   "metadata": {},
   "source": [
    "**3c.**  On which day was the largest number of donations made? \n"
   ]
  },
  {
   "cell_type": "code",
   "execution_count": 1,
   "metadata": {
    "collapsed": true
   },
   "outputs": [],
   "source": [
    "# Place code here"
   ]
  },
  {
   "cell_type": "markdown",
   "metadata": {},
   "source": [
    "**Explain solution:**"
   ]
  }
 ],
 "metadata": {
  "kernelspec": {
   "display_name": "R",
   "language": "R",
   "name": "ir"
  },
  "language_info": {
   "codemirror_mode": "r",
   "file_extension": ".r",
   "mimetype": "text/x-r-source",
   "name": "R",
   "pygments_lexer": "r",
   "version": "3.4.3"
  }
 },
 "nbformat": 4,
 "nbformat_minor": 2
}
