{
 "cells": [
  {
   "cell_type": "markdown",
   "metadata": {},
   "source": [
    "# Homework 14"
   ]
  },
  {
   "cell_type": "markdown",
   "metadata": {},
   "source": [
    "Name: "
   ]
  },
  {
   "cell_type": "markdown",
   "metadata": {},
   "source": [
    "**1\\.**  Look at the first 10 lines of the 2007 flight data, \n",
    "which is found at: \n",
    "`/depot/statclass/data/dataexpo2009/2007.csv`. All of the flights in those first 10 lines \n",
    "are on the same carrier.  Which carrier is it? \n",
    "Remember that you can check: \n",
    "http://stat-computing.org/dataexpo/2009/the-data.html "
   ]
  },
  {
   "cell_type": "code",
   "execution_count": null,
   "metadata": {
    "collapsed": true
   },
   "outputs": [],
   "source": [
    "# Place code here"
   ]
  },
  {
   "cell_type": "markdown",
   "metadata": {},
   "source": [
    "Explain your solution below:"
   ]
  },
  {
   "cell_type": "markdown",
   "metadata": {},
   "source": []
  },
  {
   "cell_type": "markdown",
   "metadata": {},
   "source": [
    "Now we are going to put awk code directly inside the Jupyter Notebook. \n",
    "(In the past, we only wrote awk code directly inside the terminal.) "
   ]
  },
  {
   "cell_type": "markdown",
   "metadata": {},
   "source": [
    "**2\\.** Save the information about every flight departing \n",
    "from Indianapolis since January 1, 2000 into a common file, \n",
    "named MyIndyFlights.csv"
   ]
  },
  {
   "cell_type": "markdown",
   "metadata": {},
   "source": [
    "Hint 1:  You only need the files 2000.csv, 2001.csv, ..., 2008.csv \n",
    "You can work on all of those files at once, using 2\\*.csv \n",
    "because the \"\\*\" is like a wildcard, that matches any pattern. "
   ]
  },
  {
   "cell_type": "markdown",
   "metadata": {},
   "source": [
    "Hint 2:  You can use awk to do this. \n",
    "For comparison, ONLY as an example, we can extract all flights \n",
    "that are on Delta airlines in 1998 as follows:"
   ]
  },
  {
   "cell_type": "markdown",
   "metadata": {},
   "source": [
    "`cat /depot/statclass/data/dataexpo2009/1998.csv | awk -F, '{ if($9 == \n",
    "\"DL\") {print $0} }' > MyDeltaFlights.csv`"
   ]
  },
  {
   "cell_type": "code",
   "execution_count": 2,
   "metadata": {
    "collapsed": true
   },
   "outputs": [],
   "source": [
    "# Place code here"
   ]
  },
  {
   "cell_type": "markdown",
   "metadata": {},
   "source": [
    "Explain your solution below:"
   ]
  },
  {
   "cell_type": "markdown",
   "metadata": {},
   "source": []
  }
 ],
 "metadata": {
  "kernelspec": {
   "display_name": "Bash",
   "language": "bash",
   "name": "bash"
  },
  "language_info": {
   "codemirror_mode": "shell",
   "file_extension": ".sh",
   "mimetype": "text/x-sh",
   "name": "bash"
  }
 },
 "nbformat": 4,
 "nbformat_minor": 2
}
